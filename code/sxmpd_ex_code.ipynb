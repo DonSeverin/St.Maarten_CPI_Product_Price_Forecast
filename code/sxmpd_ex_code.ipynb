{
 "cells": [
  {
   "attachments": {},
   "cell_type": "markdown",
   "metadata": {},
   "source": [
    "# Project: St. Maarten Price Data Forecast"
   ]
  },
  {
   "attachments": {},
   "cell_type": "markdown",
   "metadata": {},
   "source": [
    "<p>A project to explore St. Maarten's CPI product price data create visualizations of the data and use time series modeling algorithms to forecast the missing year of 2018.</p>"
   ]
  },
  {
   "attachments": {},
   "cell_type": "markdown",
   "metadata": {},
   "source": [
    "## Data Loading & Package Setup"
   ]
  },
  {
   "cell_type": "code",
   "execution_count": 37,
   "metadata": {},
   "outputs": [],
   "source": [
    "# Importing required libbrairies\n",
    "%matplotlib inline\n",
    "import pandas as pd\n",
    "import matplotlib.pyplot as plt\n",
    "import seaborn as sns\n",
    "import numpy as np"
   ]
  },
  {
   "cell_type": "code",
   "execution_count": 38,
   "metadata": {},
   "outputs": [],
   "source": [
    "# Loading titanic data set & intial preview. \n",
    "# Create Dirty multi-machine file path loads.\n",
    "M_PATH = ['/home/m0linux/Documents/projects/St.Maarten_CPI_Product_Price_Forecast/data/cpi_sxm _2001_2016.csv']\n",
    "df = pd.read_csv(M_PATH[0], sep = ';')\n"
   ]
  },
  {
   "attachments": {},
   "cell_type": "markdown",
   "metadata": {},
   "source": [
    "### Data transformations"
   ]
  },
  {
   "cell_type": "code",
   "execution_count": 39,
   "metadata": {},
   "outputs": [
    {
     "data": {
      "text/plain": [
       "Expenditure category    0\n",
       "2000                    0\n",
       "2001                    0\n",
       "2002                    0\n",
       "2003                    0\n",
       "2004                    0\n",
       "2005                    0\n",
       "2006                    0\n",
       "2007                    0\n",
       "2008                    0\n",
       "2009                    0\n",
       "2010                    0\n",
       "2011                    0\n",
       "2012                    0\n",
       "2013                    0\n",
       "2014                    0\n",
       "2015                    0\n",
       "2016                    0\n",
       "2017                    0\n",
       "dtype: int64"
      ]
     },
     "metadata": {},
     "output_type": "display_data"
    }
   ],
   "source": [
    "# Missing Values Check\n",
    "display(df.isnull().sum())"
   ]
  },
  {
   "cell_type": "code",
   "execution_count": 40,
   "metadata": {},
   "outputs": [],
   "source": [
    "# Drop Data Classifiers and Totals\n",
    "df_drop_classif = df.drop(index= [0,1,11,14,17,23,31,33,38,44] )\n",
    "df_drop_classif_column = df_drop_classif.drop(columns= ['Expenditure category'] )"
   ]
  },
  {
   "cell_type": "code",
   "execution_count": 41,
   "metadata": {},
   "outputs": [],
   "source": [
    "\n",
    "# Replace ',' for '.' allowing objects to be converted to numeric-float values\n",
    "columns = ['2000','2001','2002','2003','2004','2005','2006','2007','2008','2009','2010','2011','2012', '2013','2014','2015','2016','2017']\n",
    "columns_b = ['2000','2001','2002','2003','2004','2005','2006','2007','2008','2009','2010','2011','2012', '2013','2014','2015','2016','2017']\n",
    "\n",
    "# Replace currency \",\" --> '.' for conversion to float data type\n",
    "for col in columns:\n",
    "    df_drop_classif_column[col] = df_drop_classif_column[col].str.replace(',','.')\n",
    "    df_drop_classif_column[col] = df_drop_classif_column[col].astype(float)\n",
    "\n",
    "for col_b in columns_b:\n",
    "    df_drop_classif[col_b] = df_drop_classif[col_b].str.replace(',','.')\n",
    "    df_drop_classif[col_b] = df_drop_classif[col_b].astype(float)\n",
    "    \n",
    "\n",
    "df = df_drop_classif_column"
   ]
  },
  {
   "cell_type": "code",
   "execution_count": 42,
   "metadata": {},
   "outputs": [],
   "source": [
    "from sklearn.preprocessing import StandardScaler"
   ]
  },
  {
   "attachments": {},
   "cell_type": "markdown",
   "metadata": {},
   "source": [
    "## Exploratory Data Analysis"
   ]
  },
  {
   "attachments": {},
   "cell_type": "markdown",
   "metadata": {},
   "source": [
    "#### Data Overview & Statistical Summary"
   ]
  },
  {
   "cell_type": "code",
   "execution_count": 43,
   "metadata": {},
   "outputs": [
    {
     "data": {
      "text/plain": [
       "2000    float64\n",
       "2001    float64\n",
       "2002    float64\n",
       "2003    float64\n",
       "2004    float64\n",
       "2005    float64\n",
       "2006    float64\n",
       "2007    float64\n",
       "2008    float64\n",
       "2009    float64\n",
       "2010    float64\n",
       "2011    float64\n",
       "2012    float64\n",
       "2013    float64\n",
       "2014    float64\n",
       "2015    float64\n",
       "2016    float64\n",
       "2017    float64\n",
       "dtype: object"
      ]
     },
     "metadata": {},
     "output_type": "display_data"
    },
    {
     "data": {
      "text/plain": [
       "(38, 18)"
      ]
     },
     "metadata": {},
     "output_type": "display_data"
    },
    {
     "data": {
      "text/html": [
       "<div>\n",
       "<style scoped>\n",
       "    .dataframe tbody tr th:only-of-type {\n",
       "        vertical-align: middle;\n",
       "    }\n",
       "\n",
       "    .dataframe tbody tr th {\n",
       "        vertical-align: top;\n",
       "    }\n",
       "\n",
       "    .dataframe thead th {\n",
       "        text-align: right;\n",
       "    }\n",
       "</style>\n",
       "<table border=\"1\" class=\"dataframe\">\n",
       "  <thead>\n",
       "    <tr style=\"text-align: right;\">\n",
       "      <th></th>\n",
       "      <th>2000</th>\n",
       "      <th>2001</th>\n",
       "      <th>2002</th>\n",
       "      <th>2003</th>\n",
       "      <th>2004</th>\n",
       "      <th>2005</th>\n",
       "      <th>2006</th>\n",
       "      <th>2007</th>\n",
       "      <th>2008</th>\n",
       "      <th>2009</th>\n",
       "      <th>2010</th>\n",
       "      <th>2011</th>\n",
       "      <th>2012</th>\n",
       "      <th>2013</th>\n",
       "      <th>2014</th>\n",
       "      <th>2015</th>\n",
       "      <th>2016</th>\n",
       "      <th>2017</th>\n",
       "    </tr>\n",
       "  </thead>\n",
       "  <tbody>\n",
       "    <tr>\n",
       "      <th>count</th>\n",
       "      <td>38.000000</td>\n",
       "      <td>38.000000</td>\n",
       "      <td>38.000000</td>\n",
       "      <td>38.000000</td>\n",
       "      <td>38.000000</td>\n",
       "      <td>38.000000</td>\n",
       "      <td>38.000000</td>\n",
       "      <td>38.000000</td>\n",
       "      <td>38.000000</td>\n",
       "      <td>38.000000</td>\n",
       "      <td>38.000000</td>\n",
       "      <td>38.000000</td>\n",
       "      <td>38.000000</td>\n",
       "      <td>38.000000</td>\n",
       "      <td>38.000000</td>\n",
       "      <td>38.000000</td>\n",
       "      <td>38.000000</td>\n",
       "      <td>38.000000</td>\n",
       "    </tr>\n",
       "    <tr>\n",
       "      <th>mean</th>\n",
       "      <td>91.352105</td>\n",
       "      <td>92.104474</td>\n",
       "      <td>92.302368</td>\n",
       "      <td>93.426316</td>\n",
       "      <td>94.658158</td>\n",
       "      <td>97.533421</td>\n",
       "      <td>99.706053</td>\n",
       "      <td>101.836842</td>\n",
       "      <td>108.015789</td>\n",
       "      <td>111.712895</td>\n",
       "      <td>114.303684</td>\n",
       "      <td>120.231053</td>\n",
       "      <td>128.246053</td>\n",
       "      <td>135.185789</td>\n",
       "      <td>138.581842</td>\n",
       "      <td>145.376053</td>\n",
       "      <td>142.385526</td>\n",
       "      <td>146.065526</td>\n",
       "    </tr>\n",
       "    <tr>\n",
       "      <th>std</th>\n",
       "      <td>11.093785</td>\n",
       "      <td>10.583208</td>\n",
       "      <td>8.502278</td>\n",
       "      <td>7.403602</td>\n",
       "      <td>6.347285</td>\n",
       "      <td>4.178342</td>\n",
       "      <td>2.284645</td>\n",
       "      <td>3.745731</td>\n",
       "      <td>9.798222</td>\n",
       "      <td>11.776113</td>\n",
       "      <td>13.722210</td>\n",
       "      <td>21.298255</td>\n",
       "      <td>28.467594</td>\n",
       "      <td>43.968323</td>\n",
       "      <td>47.888182</td>\n",
       "      <td>53.721036</td>\n",
       "      <td>53.226417</td>\n",
       "      <td>57.048060</td>\n",
       "    </tr>\n",
       "    <tr>\n",
       "      <th>min</th>\n",
       "      <td>68.090000</td>\n",
       "      <td>70.440000</td>\n",
       "      <td>75.270000</td>\n",
       "      <td>76.960000</td>\n",
       "      <td>79.120000</td>\n",
       "      <td>82.660000</td>\n",
       "      <td>93.740000</td>\n",
       "      <td>99.000000</td>\n",
       "      <td>96.560000</td>\n",
       "      <td>96.860000</td>\n",
       "      <td>96.330000</td>\n",
       "      <td>72.780000</td>\n",
       "      <td>71.500000</td>\n",
       "      <td>71.500000</td>\n",
       "      <td>71.500000</td>\n",
       "      <td>71.500000</td>\n",
       "      <td>71.500000</td>\n",
       "      <td>71.500000</td>\n",
       "    </tr>\n",
       "    <tr>\n",
       "      <th>25%</th>\n",
       "      <td>83.825000</td>\n",
       "      <td>85.687500</td>\n",
       "      <td>86.135000</td>\n",
       "      <td>88.772500</td>\n",
       "      <td>91.112500</td>\n",
       "      <td>95.107500</td>\n",
       "      <td>99.130000</td>\n",
       "      <td>100.000000</td>\n",
       "      <td>101.635000</td>\n",
       "      <td>102.542500</td>\n",
       "      <td>103.892500</td>\n",
       "      <td>104.405000</td>\n",
       "      <td>109.445000</td>\n",
       "      <td>109.820000</td>\n",
       "      <td>110.957500</td>\n",
       "      <td>112.395000</td>\n",
       "      <td>107.350000</td>\n",
       "      <td>108.350000</td>\n",
       "    </tr>\n",
       "    <tr>\n",
       "      <th>50%</th>\n",
       "      <td>92.130000</td>\n",
       "      <td>93.400000</td>\n",
       "      <td>94.995000</td>\n",
       "      <td>95.605000</td>\n",
       "      <td>96.910000</td>\n",
       "      <td>98.675000</td>\n",
       "      <td>99.940000</td>\n",
       "      <td>100.750000</td>\n",
       "      <td>105.225000</td>\n",
       "      <td>108.550000</td>\n",
       "      <td>109.530000</td>\n",
       "      <td>115.815000</td>\n",
       "      <td>120.855000</td>\n",
       "      <td>123.215000</td>\n",
       "      <td>124.235000</td>\n",
       "      <td>128.840000</td>\n",
       "      <td>124.340000</td>\n",
       "      <td>127.890000</td>\n",
       "    </tr>\n",
       "    <tr>\n",
       "      <th>75%</th>\n",
       "      <td>99.925000</td>\n",
       "      <td>99.910000</td>\n",
       "      <td>99.602500</td>\n",
       "      <td>99.715000</td>\n",
       "      <td>100.000000</td>\n",
       "      <td>100.000000</td>\n",
       "      <td>100.000000</td>\n",
       "      <td>101.700000</td>\n",
       "      <td>111.962500</td>\n",
       "      <td>117.575000</td>\n",
       "      <td>123.142500</td>\n",
       "      <td>129.840000</td>\n",
       "      <td>143.982500</td>\n",
       "      <td>148.152500</td>\n",
       "      <td>153.647500</td>\n",
       "      <td>162.785000</td>\n",
       "      <td>167.327500</td>\n",
       "      <td>174.852500</td>\n",
       "    </tr>\n",
       "    <tr>\n",
       "      <th>max</th>\n",
       "      <td>114.810000</td>\n",
       "      <td>114.490000</td>\n",
       "      <td>104.210000</td>\n",
       "      <td>104.200000</td>\n",
       "      <td>104.250000</td>\n",
       "      <td>109.550000</td>\n",
       "      <td>110.920000</td>\n",
       "      <td>118.800000</td>\n",
       "      <td>143.560000</td>\n",
       "      <td>149.580000</td>\n",
       "      <td>147.790000</td>\n",
       "      <td>171.080000</td>\n",
       "      <td>206.580000</td>\n",
       "      <td>338.750000</td>\n",
       "      <td>354.830000</td>\n",
       "      <td>354.820000</td>\n",
       "      <td>362.210000</td>\n",
       "      <td>371.470000</td>\n",
       "    </tr>\n",
       "  </tbody>\n",
       "</table>\n",
       "</div>"
      ],
      "text/plain": [
       "             2000        2001        2002        2003        2004        2005   \n",
       "count   38.000000   38.000000   38.000000   38.000000   38.000000   38.000000  \\\n",
       "mean    91.352105   92.104474   92.302368   93.426316   94.658158   97.533421   \n",
       "std     11.093785   10.583208    8.502278    7.403602    6.347285    4.178342   \n",
       "min     68.090000   70.440000   75.270000   76.960000   79.120000   82.660000   \n",
       "25%     83.825000   85.687500   86.135000   88.772500   91.112500   95.107500   \n",
       "50%     92.130000   93.400000   94.995000   95.605000   96.910000   98.675000   \n",
       "75%     99.925000   99.910000   99.602500   99.715000  100.000000  100.000000   \n",
       "max    114.810000  114.490000  104.210000  104.200000  104.250000  109.550000   \n",
       "\n",
       "             2006        2007        2008        2009        2010        2011   \n",
       "count   38.000000   38.000000   38.000000   38.000000   38.000000   38.000000  \\\n",
       "mean    99.706053  101.836842  108.015789  111.712895  114.303684  120.231053   \n",
       "std      2.284645    3.745731    9.798222   11.776113   13.722210   21.298255   \n",
       "min     93.740000   99.000000   96.560000   96.860000   96.330000   72.780000   \n",
       "25%     99.130000  100.000000  101.635000  102.542500  103.892500  104.405000   \n",
       "50%     99.940000  100.750000  105.225000  108.550000  109.530000  115.815000   \n",
       "75%    100.000000  101.700000  111.962500  117.575000  123.142500  129.840000   \n",
       "max    110.920000  118.800000  143.560000  149.580000  147.790000  171.080000   \n",
       "\n",
       "             2012        2013        2014        2015        2016        2017  \n",
       "count   38.000000   38.000000   38.000000   38.000000   38.000000   38.000000  \n",
       "mean   128.246053  135.185789  138.581842  145.376053  142.385526  146.065526  \n",
       "std     28.467594   43.968323   47.888182   53.721036   53.226417   57.048060  \n",
       "min     71.500000   71.500000   71.500000   71.500000   71.500000   71.500000  \n",
       "25%    109.445000  109.820000  110.957500  112.395000  107.350000  108.350000  \n",
       "50%    120.855000  123.215000  124.235000  128.840000  124.340000  127.890000  \n",
       "75%    143.982500  148.152500  153.647500  162.785000  167.327500  174.852500  \n",
       "max    206.580000  338.750000  354.830000  354.820000  362.210000  371.470000  "
      ]
     },
     "metadata": {},
     "output_type": "display_data"
    }
   ],
   "source": [
    "# Descriptive summary, sata types and data column and feature count using shape.\n",
    "# Data Type Check\n",
    "display(df.dtypes)\n",
    "\n",
    "# Data Shape Check\n",
    "display(df.shape)\n",
    "\n",
    "# Statistical Overview Check\n",
    "display(df.describe())\n"
   ]
  },
  {
   "attachments": {},
   "cell_type": "markdown",
   "metadata": {},
   "source": [
    "####  Outlier Detection & Removal"
   ]
  },
  {
   "cell_type": "code",
   "execution_count": 44,
   "metadata": {},
   "outputs": [
    {
     "data": {
      "image/png": "[encoded data removed]",
      "text/plain": [
       "<Figure size 640x480 with 4 Axes>"
      ]
     },
     "metadata": {},
     "output_type": "display_data"
    }
   ],
   "source": [
    "# Outlier Visual Detection\n",
    "fig, axs = plt.subplots(2,2)\n",
    "\n",
    "axs[0,0].set_title('2001-2004 Dist Comp Train Set')\n",
    "axs[0,0].boxplot(df[['2000','2001','2002','2003','2004']],0,'r')\n",
    "\n",
    "axs[0,1].set_title('2005-2008 Dist Comp Train Set')\n",
    "axs[0,1].boxplot(df[['2004','2005','2006','2007','2008']],0,'r')\n",
    "\n",
    "axs[1,0].set_title('2009-2012 Dist Comp Train Set')\n",
    "axs[1,0].boxplot(df[['2008','2009','2010','2011','2012']],0,'r')\n",
    "\n",
    "axs[1,1].set_title('2013-2017 Dist Comp Train Set')\n",
    "axs[1,1].boxplot(df[['2013','2014','2015','2016','2017']],0,'r')\n",
    "\n",
    "\n",
    "fig.subplots_adjust(left=0.09, right=1.5, bottom=0.1, top= 1.4, hspace=0.4, wspace= 0.3)\n",
    "\n",
    "\n",
    "plt.show()"
   ]
  },
  {
   "attachments": {},
   "cell_type": "markdown",
   "metadata": {},
   "source": [
    "##### IQR Filtering\n"
   ]
  },
  {
   "cell_type": "code",
   "execution_count": 45,
   "metadata": {},
   "outputs": [
    {
     "data": {
      "text/plain": [
       "2000    0\n",
       "2001    0\n",
       "2002    0\n",
       "2003    0\n",
       "2004    0\n",
       "2005    0\n",
       "2006    0\n",
       "2007    0\n",
       "2008    0\n",
       "2009    0\n",
       "2010    0\n",
       "2011    0\n",
       "2012    0\n",
       "2013    0\n",
       "2014    0\n",
       "2015    0\n",
       "2016    0\n",
       "2017    0\n",
       "dtype: int64"
      ]
     },
     "metadata": {},
     "output_type": "display_data"
    }
   ],
   "source": [
    "# Interquarentile Range (IQR) Based Filtering\n",
    "\n",
    "percentile25 = df.quantile(0.25)\n",
    "percentile75 = df.quantile(0.75)\n",
    "\n",
    "iqr = percentile75 - percentile25\n",
    "\n",
    "upper_limits = percentile75 + 1.5 * iqr\n",
    "lower_limits = percentile25 - 1.5 * iqr\n",
    "\n",
    "# Linear Interpolation for missing data (Outliers)\n",
    "data_no_outliers = df[(df >= lower_limits) & (df <= upper_limits)]\n",
    "data_no_outliers_interp = data_no_outliers.interpolate(method='linear', order= 2)\n",
    "\n",
    "# Missing Values Check\n",
    "display(data_no_outliers_interp.isnull().sum())\n",
    "\n"
   ]
  },
  {
   "cell_type": "code",
   "execution_count": 46,
   "metadata": {},
   "outputs": [
    {
     "data": {
      "image/png": "[encoded data removed]",
      "text/plain": [
       "<Figure size 640x480 with 4 Axes>"
      ]
     },
     "metadata": {},
     "output_type": "display_data"
    }
   ],
   "source": [
    "# Outliers Removed Comp\n",
    "\n",
    "fig1, axs1 = plt.subplots(2,2)\n",
    "\n",
    "axs1[0,0].set_title('2001-2004 Dist Comp Train Set')\n",
    "axs1[0,0].boxplot(data_no_outliers_interp[['2000','2001','2002','2003','2004']],0,'r')\n",
    "axs1[0,1].set_title('2005-2008 Dist Comp Train Set')\n",
    "axs1[0,1].boxplot(data_no_outliers_interp[['2004','2005','2006','2007','2008']],0,'r')\n",
    "axs1[1,0].set_title('2009-2012 Dist Comp Train Set')\n",
    "axs1[1,0].boxplot(data_no_outliers_interp[['2008','2009','2010','2011','2012']],0,'r')\n",
    "axs1[1,1].set_title('2013-2017 Dist Comp Train Set')\n",
    "axs1[1,1].boxplot(data_no_outliers_interp[['2013','2014','2015','2016','2017']],0,'r')\n",
    "\n",
    "\n",
    "fig1.subplots_adjust(left=0.09, right=1.5, bottom=0.1, top= 1.4, hspace=0.4, wspace= 0.3)\n",
    "\n",
    "\n",
    "plt.show()"
   ]
  },
  {
   "attachments": {},
   "cell_type": "markdown",
   "metadata": {},
   "source": [
    "## Transformations"
   ]
  },
  {
   "attachments": {},
   "cell_type": "markdown",
   "metadata": {},
   "source": [
    "### Data transformation & processing"
   ]
  },
  {
   "cell_type": "code",
   "execution_count": 47,
   "metadata": {},
   "outputs": [],
   "source": [
    "from statsmodels.tsa.stattools import adfuller, kpss\n",
    "from statsmodels.tsa.statespace.tools import diff"
   ]
  },
  {
   "attachments": {},
   "cell_type": "markdown",
   "metadata": {},
   "source": [
    "##### Reshaping Data (Stats Models)"
   ]
  },
  {
   "cell_type": "code",
   "execution_count": 48,
   "metadata": {},
   "outputs": [],
   "source": [
    "# Transforming data for stats model time index requirment\n",
    "transform = pd.melt(data_no_outliers_interp).rename(columns= {'variable':'Date', 'value':'Prices'})\n",
    "transform['Date'] = pd.to_datetime(transform['Date'], format= '%Y')\n",
    "df_stm_train = transform"
   ]
  },
  {
   "attachments": {},
   "cell_type": "markdown",
   "metadata": {},
   "source": [
    "###### Differencing (Stats Models)"
   ]
  },
  {
   "cell_type": "code",
   "execution_count": 49,
   "metadata": {},
   "outputs": [],
   "source": [
    "# Dataset with Log Transfomration applied for stationarity.\n",
    "log_transformed_data = np.log(df_stm_train['Prices'])\n",
    "\n",
    "# Dataset with differencing applied for stationarity.\n",
    "fo_diff = diff(log_transformed_data)"
   ]
  },
  {
   "cell_type": "code",
   "execution_count": 50,
   "metadata": {},
   "outputs": [],
   "source": [
    "series = fo_diff"
   ]
  },
  {
   "attachments": {},
   "cell_type": "markdown",
   "metadata": {},
   "source": [
    "#### Autocorrolation Function (AFC) & Partial Autocorrolation Function (PAFC) Investigative Plots\n"
   ]
  },
  {
   "cell_type": "code",
   "execution_count": 51,
   "metadata": {},
   "outputs": [],
   "source": [
    "from statsmodels.graphics.tsaplots import plot_acf, plot_pacf"
   ]
  },
  {
   "cell_type": "code",
   "execution_count": 52,
   "metadata": {},
   "outputs": [
    {
     "data": {
      "image/png": "[encoded data removed]",
      "text/plain": [
       "<Figure size 1000x800 with 2 Axes>"
      ]
     },
     "metadata": {},
     "output_type": "display_data"
    }
   ],
   "source": [
    "# Plot the ACF and PACF\n",
    "fig, axes = plt.subplots(2, 1, figsize=(10, 8))\n",
    "\n",
    "# ACF plot\n",
    "plot_acf(df_stm_train['Prices'], lags=20, ax=axes[0])\n",
    "axes[0].set_title('Autocorrelation Function (ACF)')\n",
    "\n",
    "# PACF plot\n",
    "plot_pacf(df_stm_train['Prices'], lags=20, ax=axes[1])\n",
    "axes[1].set_title('Partial Autocorrelation Function (PACF)')\n",
    "\n",
    "plt.tight_layout()\n",
    "plt.show()"
   ]
  },
  {
   "attachments": {},
   "cell_type": "markdown",
   "metadata": {},
   "source": [
    "#### Augmented Dickey-Fuller (ADF)"
   ]
  },
  {
   "cell_type": "code",
   "execution_count": 53,
   "metadata": {},
   "outputs": [
    {
     "name": "stdout",
     "output_type": "stream",
     "text": [
      "Results of Dickey-Fuller Test:\n",
      "Test Statistic                -9.858101e+00\n",
      "p-value                        4.305221e-17\n",
      "# of Lags Used                 1.900000e+01\n",
      "Number of Observations Used    6.630000e+02\n",
      "Critical Value (1%)           -3.440252e+00\n",
      "Critical Value (5%)           -2.865909e+00\n",
      "Critical Value (10%)          -2.569097e+00\n",
      "dtype: float64\n"
     ]
    }
   ],
   "source": [
    "\n",
    "def adf_test(series):\n",
    "    print(\"Results of Dickey-Fuller Test:\")\n",
    "    dftest = adfuller(series)\n",
    "    dfoutput = pd.Series(\n",
    "        dftest[0:4],\n",
    "        index=[\n",
    "            \"Test Statistic\",\n",
    "            \"p-value\",\n",
    "            \"# of Lags Used\",\n",
    "            \"Number of Observations Used\",\n",
    "        ],\n",
    "    )\n",
    "    for key, value in dftest[4].items():\n",
    "        dfoutput[\"Critical Value (%s)\" % key] = value\n",
    "    print(dfoutput)\n",
    "\n",
    "adf_test(series)"
   ]
  },
  {
   "attachments": {},
   "cell_type": "markdown",
   "metadata": {},
   "source": [
    "#### Auto_Arima Package testing"
   ]
  },
  {
   "cell_type": "code",
   "execution_count": 54,
   "metadata": {},
   "outputs": [
    {
     "name": "stdout",
     "output_type": "stream",
     "text": [
      " ARIMA(0,1,0)(0,0,0)[1] intercept   : AIC=5907.207, Time=0.02 sec\n",
      " ARIMA(0,1,1)(0,0,0)[1] intercept   : AIC=5829.547, Time=0.15 sec\n",
      " ARIMA(0,1,2)(0,0,0)[1] intercept   : AIC=5831.285, Time=0.13 sec\n",
      " ARIMA(0,1,3)(0,0,0)[1] intercept   : AIC=inf, Time=0.27 sec\n",
      " ARIMA(0,1,4)(0,0,0)[1] intercept   : AIC=inf, Time=0.48 sec\n",
      " ARIMA(0,1,5)(0,0,0)[1] intercept   : AIC=inf, Time=0.84 sec\n",
      " ARIMA(1,1,0)(0,0,0)[1] intercept   : AIC=5823.217, Time=0.04 sec\n",
      " ARIMA(1,1,1)(0,0,0)[1] intercept   : AIC=5819.417, Time=0.12 sec\n",
      " ARIMA(1,1,2)(0,0,0)[1] intercept   : AIC=inf, Time=0.31 sec\n",
      " ARIMA(1,1,3)(0,0,0)[1] intercept   : AIC=inf, Time=0.74 sec\n",
      " ARIMA(1,1,4)(0,0,0)[1] intercept   : AIC=inf, Time=0.84 sec\n",
      " ARIMA(2,1,0)(0,0,0)[1] intercept   : AIC=5822.244, Time=0.10 sec\n",
      " ARIMA(2,1,1)(0,0,0)[1] intercept   : AIC=5820.769, Time=0.28 sec\n",
      " ARIMA(2,1,2)(0,0,0)[1] intercept   : AIC=inf, Time=0.44 sec\n",
      " ARIMA(2,1,3)(0,0,0)[1] intercept   : AIC=inf, Time=0.59 sec\n",
      " ARIMA(3,1,0)(0,0,0)[1] intercept   : AIC=5806.228, Time=0.10 sec\n",
      " ARIMA(3,1,1)(0,0,0)[1] intercept   : AIC=inf, Time=0.41 sec\n",
      " ARIMA(3,1,2)(0,0,0)[1] intercept   : AIC=5758.321, Time=0.27 sec\n",
      " ARIMA(4,1,0)(0,0,0)[1] intercept   : AIC=5766.854, Time=0.30 sec\n",
      " ARIMA(4,1,1)(0,0,0)[1] intercept   : AIC=5757.759, Time=0.74 sec\n",
      " ARIMA(5,1,0)(0,0,0)[1] intercept   : AIC=5750.610, Time=0.21 sec\n",
      "\n",
      "Best model:  ARIMA(5,1,0)(0,0,0)[1] intercept\n",
      "Total fit time: 7.378 seconds\n"
     ]
    },
    {
     "data": {
      "text/plain": [
       "'Best Model Order'"
      ]
     },
     "metadata": {},
     "output_type": "display_data"
    },
    {
     "data": {
      "text/plain": [
       "(5, 1, 0)"
      ]
     },
     "metadata": {},
     "output_type": "display_data"
    }
   ],
   "source": [
    "from pmdarima.arima import auto_arima\n",
    "\n",
    "# Testing the Auto Arima for order detection\n",
    "model = auto_arima(df_stm_train['Prices'], trace=True, error_action='ignore',suppress_warnings=True, stepwise=False)\n",
    "display(\"Best Model Order\", model.order)"
   ]
  },
  {
   "attachments": {},
   "cell_type": "markdown",
   "metadata": {},
   "source": [
    "## Machine Learning Models"
   ]
  },
  {
   "attachments": {},
   "cell_type": "markdown",
   "metadata": {},
   "source": [
    "#### Statistical Modeling Algorithm"
   ]
  },
  {
   "cell_type": "code",
   "execution_count": 55,
   "metadata": {},
   "outputs": [],
   "source": [
    "from statsmodels.tsa.arima.model import ARIMA"
   ]
  },
  {
   "attachments": {},
   "cell_type": "markdown",
   "metadata": {},
   "source": [
    "##### Autoregressive Integrated Moving Average  (ARIMA)\n"
   ]
  },
  {
   "cell_type": "code",
   "execution_count": 56,
   "metadata": {},
   "outputs": [],
   "source": [
    "ARIMA_model = ARIMA(df_stm_train['Prices'], order=(5,1,1))\n",
    "ARIMA_model_fit = ARIMA_model.fit()"
   ]
  },
  {
   "cell_type": "code",
   "execution_count": 57,
   "metadata": {},
   "outputs": [
    {
     "data": {
      "text/plain": [
       "137"
      ]
     },
     "metadata": {},
     "output_type": "display_data"
    }
   ],
   "source": [
    "train_size = int(len(df_stm_train) * 0.8)\n",
    "train_data = df_stm_train.iloc[:train_size]\n",
    "test_data = df_stm_train.iloc[train_size:]\n",
    "display(len(test_data))"
   ]
  },
  {
   "cell_type": "code",
   "execution_count": 58,
   "metadata": {},
   "outputs": [],
   "source": [
    "forecast_values = ARIMA_model_fit.forecast(steps=len(test_data))"
   ]
  },
  {
   "cell_type": "code",
   "execution_count": 59,
   "metadata": {},
   "outputs": [],
   "source": [
    "forecast_horizon = 39  # Adjust as needed\n",
    "train_forecast = ARIMA_model_fit.forecast(steps=len(test_data))"
   ]
  },
  {
   "cell_type": "code",
   "execution_count": 60,
   "metadata": {},
   "outputs": [
    {
     "data": {
      "text/plain": [
       "684    132.910048\n",
       "685    128.533590\n",
       "686    117.386900\n",
       "687    118.142862\n",
       "688    115.162804\n",
       "689    124.579258\n",
       "690    123.007163\n",
       "691    126.051298\n",
       "692    122.726754\n",
       "693    122.271472\n",
       "694    120.606438\n",
       "695    121.971901\n",
       "696    121.776526\n",
       "697    123.153605\n",
       "698    122.562639\n",
       "699    122.749858\n",
       "700    122.098488\n",
       "701    122.224378\n",
       "702    122.057547\n",
       "703    122.401027\n",
       "704    122.335970\n",
       "705    122.492491\n",
       "706    122.333208\n",
       "707    122.356623\n",
       "708    122.263002\n",
       "709    122.324978\n",
       "710    122.307504\n",
       "711    122.365644\n",
       "712    122.339161\n",
       "713    122.354884\n",
       "714    122.323930\n",
       "715    122.333512\n",
       "716    122.322470\n",
       "717    122.337530\n",
       "718    122.333319\n",
       "719    122.341133\n",
       "720    122.334019\n",
       "721    122.336295\n",
       "722    122.331541\n",
       "Name: predicted_mean, dtype: float64"
      ]
     },
     "metadata": {},
     "output_type": "display_data"
    }
   ],
   "source": [
    "forcast_2018 = ARIMA_model_fit.forecast(steps=forecast_horizon) \n",
    "display(forcast_2018)\n"
   ]
  },
  {
   "cell_type": "code",
   "execution_count": 61,
   "metadata": {},
   "outputs": [
    {
     "name": "stdout",
     "output_type": "stream",
     "text": [
      "RMSE: 34.98411131940719\n"
     ]
    }
   ],
   "source": [
    "from sklearn.metrics import mean_squared_error\n",
    "\n",
    "# Calculate RMSE for the testing set\n",
    "mse = mean_squared_error(test_data['Prices'], forecast_values)\n",
    "rmse = np.sqrt(mse)\n",
    "print('RMSE:', rmse)"
   ]
  }
 ],
 "metadata": {
  "kernelspec": {
   "display_name": "Python 3 (ipykernel)",
   "language": "python",
   "name": "python3"
  },
  "language_info": {
   "codemirror_mode": {
    "name": "ipython",
    "version": 3
   },
   "file_extension": ".py",
   "mimetype": "text/x-python",
   "name": "python",
   "nbconvert_exporter": "python",
   "pygments_lexer": "ipython3",
   "version": "3.10.12"
  },
  "vscode": {
   "interpreter": {
    "hash": "e790a355642205eebd3e1c8c4140dbaf02a9e27e83521908846cc8fe5bb24f44"
   }
  }
 },
 "nbformat": 4,
 "nbformat_minor": 4
}
